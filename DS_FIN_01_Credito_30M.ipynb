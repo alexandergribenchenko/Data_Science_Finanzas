{
  "nbformat": 4,
  "nbformat_minor": 0,
  "metadata": {
    "colab": {
      "provenance": [],
      "authorship_tag": "ABX9TyM46Mc5J7AcsG70Qqme2xCZ",
      "include_colab_link": true
    },
    "kernelspec": {
      "name": "python3",
      "display_name": "Python 3"
    },
    "language_info": {
      "name": "python"
    }
  },
  "cells": [
    {
      "cell_type": "markdown",
      "metadata": {
        "id": "view-in-github",
        "colab_type": "text"
      },
      "source": [
        "<a href=\"https://colab.research.google.com/github/alexandergribenchenko/Data_Science_Finanzas/blob/main/DS_FIN_01_Credito_30M.ipynb\" target=\"_parent\"><img src=\"https://colab.research.google.com/assets/colab-badge.svg\" alt=\"Open In Colab\"/></a>"
      ]
    },
    {
      "cell_type": "code",
      "execution_count": null,
      "metadata": {
        "id": "ZaCZxQS3KE7t"
      },
      "outputs": [],
      "source": [
        "monto = 30000000\n",
        "plazo = 60\n",
        "TEA = 0.11"
      ]
    },
    {
      "cell_type": "code",
      "source": [
        "TEM = pow(1+TEA,1/12)-1\n",
        "# TEM = 0.8735\n",
        "TEM"
      ],
      "metadata": {
        "colab": {
          "base_uri": "https://localhost:8080/"
        },
        "id": "1dk6Ei8BKUXM",
        "outputId": "7fc6ff62-b1ad-4e81-9179-3f0f9b847fba"
      },
      "execution_count": null,
      "outputs": [
        {
          "output_type": "execute_result",
          "data": {
            "text/plain": [
              "0.008734593823551906"
            ]
          },
          "metadata": {},
          "execution_count": 42
        }
      ]
    },
    {
      "cell_type": "code",
      "source": [
        "cuota = (monto*(TEM*pow(1+TEM,plazo))/(pow(1+TEM,plazo)-1))\n",
        "cuota"
      ],
      "metadata": {
        "colab": {
          "base_uri": "https://localhost:8080/"
        },
        "id": "SN0IoP20KF3S",
        "outputId": "2c1ea52e-221e-41cd-80a3-f0bd8fb39eee"
      },
      "execution_count": null,
      "outputs": [
        {
          "output_type": "execute_result",
          "data": {
            "text/plain": [
              "644542.2966337983"
            ]
          },
          "metadata": {},
          "execution_count": 43
        }
      ]
    },
    {
      "cell_type": "code",
      "source": [],
      "metadata": {
        "id": "h8k0ERyTNFDd"
      },
      "execution_count": null,
      "outputs": []
    },
    {
      "cell_type": "code",
      "source": [],
      "metadata": {
        "id": "ClMi2zDANFBK"
      },
      "execution_count": null,
      "outputs": []
    },
    {
      "cell_type": "code",
      "source": [],
      "metadata": {
        "id": "oKnDxt5pNE82"
      },
      "execution_count": null,
      "outputs": []
    },
    {
      "cell_type": "code",
      "source": [],
      "metadata": {
        "id": "AnJ1-llFLDPa"
      },
      "execution_count": null,
      "outputs": []
    }
  ]
}