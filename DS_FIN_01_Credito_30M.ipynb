{
  "nbformat": 4,
  "nbformat_minor": 0,
  "metadata": {
    "colab": {
      "provenance": [],
      "authorship_tag": "ABX9TyO4EQgUTyAQnqCBRzhImhGJ",
      "include_colab_link": true
    },
    "kernelspec": {
      "name": "python3",
      "display_name": "Python 3"
    },
    "language_info": {
      "name": "python"
    }
  },
  "cells": [
    {
      "cell_type": "markdown",
      "metadata": {
        "id": "view-in-github",
        "colab_type": "text"
      },
      "source": [
        "<a href=\"https://colab.research.google.com/github/alexandergribenchenko/Data_Science_Finanzas/blob/main/DS_FIN_01_Credito_30M.ipynb\" target=\"_parent\"><img src=\"https://colab.research.google.com/assets/colab-badge.svg\" alt=\"Open In Colab\"/></a>"
      ]
    },
    {
      "cell_type": "markdown",
      "source": [
        "# Data Science - Créditos"
      ],
      "metadata": {
        "id": "V3CQQVyJQXEZ"
      }
    },
    {
      "cell_type": "markdown",
      "source": [
        "# 01. TEA, TEM, TED (Tazas de interes efectivas)"
      ],
      "metadata": {
        "id": "RCJ8WuVLQbGr"
      }
    },
    {
      "cell_type": "markdown",
      "source": [
        "Definiciones:\n",
        "\n",
        "- TEA (Taza efectiva anual)\n",
        "- TEM (Taza efectiva mensual)\n",
        "- TED (Taza efectiva diaria)\n",
        "\n",
        "\n",
        "\n",
        "\n"
      ],
      "metadata": {
        "id": "vOLs6oWnSk6O"
      }
    },
    {
      "cell_type": "markdown",
      "source": [
        "Cálculo de tasas de intres mensual y diaria a partir de la taza de interes anual:\n",
        "$$ TEA = \\left(1+TEA\\right)^{1/1}-1$$\n",
        "$$ TEM = \\left(1+TEA\\right)^{1/12}-1$$\n",
        "$$ TED = \\left(1+TEA\\right)^{1/365}-1$$"
      ],
      "metadata": {
        "id": "BypqbM2DWx_b"
      }
    },
    {
      "cell_type": "code",
      "source": [
        "# Ejemplo 01:\n",
        "TEA = 0.39\n",
        "TEM = pow(1+TEA,1/12)-1\n",
        "TED = pow(1+TEA,(1/365))-1\n",
        "print(TEA, TEM, TED)"
      ],
      "metadata": {
        "id": "K5gnw-fTWtqv",
        "outputId": "d97ac29c-56ed-46ef-cfa2-fc0610b2341d",
        "colab": {
          "base_uri": "https://localhost:8080/"
        }
      },
      "execution_count": null,
      "outputs": [
        {
          "output_type": "stream",
          "name": "stdout",
          "text": [
            "0.39 0.02782197804474018 0.0009026091536543657\n"
          ]
        }
      ]
    },
    {
      "cell_type": "markdown",
      "source": [
        "Cálculo de la tasa de intres anual a partir de la tazas de interes diaria y mensual:\n",
        "$$ TEA\\% = 100*\\left(1+TEA\\right)^{1}-100$$\n",
        "$$ TEA\\% = 100*\\left(1+TEM\\right)^{12}-100$$\n",
        "$$ TEA\\% = 100*\\left(1+TED\\right)^{365}-100$$"
      ],
      "metadata": {
        "id": "TLlyE7RVWvJa"
      }
    },
    {
      "cell_type": "code",
      "source": [
        "# Ejemplo 02:\n",
        "TEM\n",
        "TED\n",
        "TEA = round(pow(1+TEM,12)-1,5)\n",
        "TEA = round(pow(1+TED,365)-1,5)\n",
        "print(TEA, TEM, TED)"
      ],
      "metadata": {
        "id": "CxWDbTkCZHDH",
        "outputId": "b655ab07-66c6-4abb-bf41-2d3d02794477",
        "colab": {
          "base_uri": "https://localhost:8080/"
        }
      },
      "execution_count": null,
      "outputs": [
        {
          "output_type": "stream",
          "name": "stdout",
          "text": [
            "0.11 0.008734593823551906 0.00028595872860770477\n"
          ]
        }
      ]
    },
    {
      "cell_type": "code",
      "source": [
        "# Ejemplo 03:\n",
        "TEM = 0.01\n",
        "TEA = round(pow(1+TEM,12)-1,5)\n",
        "print(TEA, TEM)"
      ],
      "metadata": {
        "id": "8lGFp1f7p656",
        "outputId": "fbae92fb-7c40-43b2-a231-589c6184cc7f",
        "colab": {
          "base_uri": "https://localhost:8080/"
        }
      },
      "execution_count": null,
      "outputs": [
        {
          "output_type": "stream",
          "name": "stdout",
          "text": [
            "0.12683 0.01\n"
          ]
        }
      ]
    },
    {
      "cell_type": "markdown",
      "source": [
        "# 02. Cálculo de la cuota fija mensual"
      ],
      "metadata": {
        "id": "Q-t0ck95RAWH"
      }
    },
    {
      "cell_type": "markdown",
      "source": [
        "- Monto:\n",
        "- **Plazo:** el plazo debe estar dado en las mismas unidades en que se calcule la couta fija. Si es el cálculo de la cuota fija mensual, por ejemplo, la taza a emplear es la tasa efectiva mensual respectivamante\n",
        "- TEA:"
      ],
      "metadata": {
        "id": "GuT34uADZyou"
      }
    },
    {
      "cell_type": "markdown",
      "source": [
        "## Ejemplo 01:\n",
        "- Monto: 30 Millones de pesos\n",
        "- Plazo: 60 meses\n",
        "- TEA: 0.11"
      ],
      "metadata": {
        "id": "7N6DaVoQaaM-"
      }
    },
    {
      "cell_type": "code",
      "execution_count": null,
      "metadata": {
        "id": "ZaCZxQS3KE7t"
      },
      "outputs": [],
      "source": [
        "monto = 30000000\n",
        "plazo = 60\n",
        "TEA = 0.11"
      ]
    },
    {
      "cell_type": "code",
      "source": [
        "TEM = pow(1+TEA,1/12)-1\n",
        "TEM"
      ],
      "metadata": {
        "colab": {
          "base_uri": "https://localhost:8080/"
        },
        "id": "1dk6Ei8BKUXM",
        "outputId": "8b2ad45f-0b61-4909-ab6c-54371d47eebc"
      },
      "execution_count": null,
      "outputs": [
        {
          "output_type": "execute_result",
          "data": {
            "text/plain": [
              "0.008734593823551906"
            ]
          },
          "metadata": {},
          "execution_count": 27
        }
      ]
    },
    {
      "cell_type": "code",
      "source": [
        "cuota = round(monto*(TEM*pow(1+TEM,plazo))/(pow(1+TEM,plazo)-1))\n",
        "cuota"
      ],
      "metadata": {
        "colab": {
          "base_uri": "https://localhost:8080/"
        },
        "id": "SN0IoP20KF3S",
        "outputId": "332b405e-4ef1-4937-a612-311d5c11a733"
      },
      "execution_count": null,
      "outputs": [
        {
          "output_type": "execute_result",
          "data": {
            "text/plain": [
              "644542"
            ]
          },
          "metadata": {},
          "execution_count": 28
        }
      ]
    },
    {
      "cell_type": "markdown",
      "source": [
        "## Ejemplo 02:\n",
        "- Monto: 10 Millones de pesos\n",
        "- Plazo: 18 meses\n",
        "- TEM: 0.008"
      ],
      "metadata": {
        "id": "EyE2am1HbRLS"
      }
    },
    {
      "cell_type": "code",
      "execution_count": null,
      "metadata": {
        "id": "G1EgRGKObRLS"
      },
      "outputs": [],
      "source": [
        "monto = 10000000\n",
        "plazo = 18\n",
        "TEM = 0.008"
      ]
    },
    {
      "cell_type": "code",
      "source": [
        "cuota = round(monto*(TEM*pow(1+TEM,plazo))/(pow(1+TEM,plazo)-1))\n",
        "cuota"
      ],
      "metadata": {
        "colab": {
          "base_uri": "https://localhost:8080/"
        },
        "outputId": "a459fb56-0e69-416d-ceb7-acefccd35d06",
        "id": "kAXAXQuCbRLT"
      },
      "execution_count": null,
      "outputs": [
        {
          "output_type": "execute_result",
          "data": {
            "text/plain": [
              "598731"
            ]
          },
          "metadata": {},
          "execution_count": 30
        }
      ]
    },
    {
      "cell_type": "markdown",
      "source": [
        "## Ejemplo 03:"
      ],
      "metadata": {
        "id": "ILXdSuIxfOZH"
      }
    },
    {
      "cell_type": "code",
      "execution_count": null,
      "metadata": {
        "id": "pnqthFL0fOZJ"
      },
      "outputs": [],
      "source": [
        "monto = 5824700\n",
        "plazo = 12\n",
        "TEM = 0.008"
      ]
    },
    {
      "cell_type": "code",
      "source": [
        "cuota = round(monto*(TEM*pow(1+TEM,plazo))/(pow(1+TEM,plazo)-1))\n",
        "cuota"
      ],
      "metadata": {
        "colab": {
          "base_uri": "https://localhost:8080/"
        },
        "outputId": "a8c6d606-b0a7-4ebe-b51b-e6e7e350e3b1",
        "id": "e5iqZ4KWfOZK"
      },
      "execution_count": null,
      "outputs": [
        {
          "output_type": "execute_result",
          "data": {
            "text/plain": [
              "511001"
            ]
          },
          "metadata": {},
          "execution_count": 32
        }
      ]
    },
    {
      "cell_type": "markdown",
      "source": [
        "# 03. Cálculo de la proyección de pagos"
      ],
      "metadata": {
        "id": "e7gTBLZFcZmC"
      }
    },
    {
      "cell_type": "code",
      "source": [],
      "metadata": {
        "id": "INRFZmZBbOPR"
      },
      "execution_count": null,
      "outputs": []
    },
    {
      "cell_type": "code",
      "source": [],
      "metadata": {
        "id": "NRUoXhEDbONQ"
      },
      "execution_count": null,
      "outputs": []
    },
    {
      "cell_type": "code",
      "source": [],
      "metadata": {
        "id": "6XsK4RsvbOLW"
      },
      "execution_count": null,
      "outputs": []
    },
    {
      "cell_type": "code",
      "source": [],
      "metadata": {
        "id": "3h6MY2YZbOJj"
      },
      "execution_count": null,
      "outputs": []
    },
    {
      "cell_type": "code",
      "source": [],
      "metadata": {
        "id": "UB8lS0NybOHS"
      },
      "execution_count": null,
      "outputs": []
    },
    {
      "cell_type": "code",
      "source": [],
      "metadata": {
        "id": "zBkqbnoxbOFS"
      },
      "execution_count": null,
      "outputs": []
    },
    {
      "cell_type": "code",
      "source": [],
      "metadata": {
        "id": "57gikKvtbODB"
      },
      "execution_count": null,
      "outputs": []
    },
    {
      "cell_type": "code",
      "source": [],
      "metadata": {
        "id": "5CegXqodbN-n"
      },
      "execution_count": null,
      "outputs": []
    },
    {
      "cell_type": "markdown",
      "source": [
        "# XX. Puntos por estudiar con mayor detalle"
      ],
      "metadata": {
        "id": "woj_rO9zTF3V"
      }
    },
    {
      "cell_type": "markdown",
      "source": [
        "- Interes compuesto"
      ],
      "metadata": {
        "id": "t_yEVgslTMU6"
      }
    },
    {
      "cell_type": "code",
      "source": [],
      "metadata": {
        "id": "ClMi2zDANFBK"
      },
      "execution_count": null,
      "outputs": []
    },
    {
      "cell_type": "code",
      "source": [],
      "metadata": {
        "id": "oKnDxt5pNE82"
      },
      "execution_count": null,
      "outputs": []
    },
    {
      "cell_type": "code",
      "source": [],
      "metadata": {
        "id": "AnJ1-llFLDPa"
      },
      "execution_count": null,
      "outputs": []
    }
  ]
}