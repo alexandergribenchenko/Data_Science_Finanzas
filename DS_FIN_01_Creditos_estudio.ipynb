{
  "nbformat": 4,
  "nbformat_minor": 0,
  "metadata": {
    "colab": {
      "provenance": [],
      "authorship_tag": "ABX9TyNf/3pt/kQ0qVQQMyqaa5uj",
      "include_colab_link": true
    },
    "kernelspec": {
      "name": "python3",
      "display_name": "Python 3"
    },
    "language_info": {
      "name": "python"
    }
  },
  "cells": [
    {
      "cell_type": "markdown",
      "metadata": {
        "id": "view-in-github",
        "colab_type": "text"
      },
      "source": [
        "<a href=\"https://colab.research.google.com/github/alexandergribenchenko/Data_Science_Finanzas/blob/main/DS_FIN_01_Creditos_estudio.ipynb\" target=\"_parent\"><img src=\"https://colab.research.google.com/assets/colab-badge.svg\" alt=\"Open In Colab\"/></a>"
      ]
    },
    {
      "cell_type": "markdown",
      "source": [
        "# Data Science - Créditos"
      ],
      "metadata": {
        "id": "V3CQQVyJQXEZ"
      }
    },
    {
      "cell_type": "markdown",
      "source": [
        "# 01.Ejercicios interes compuesto (platzi)"
      ],
      "metadata": {
        "id": "90ulrdyv3CHJ"
      }
    },
    {
      "cell_type": "markdown",
      "source": [
        "## 01.01. Tema: Interes compuesto anual (capitalizable anualmente)"
      ],
      "metadata": {
        "id": "V51ro19b3lrD"
      }
    },
    {
      "cell_type": "markdown",
      "source": [
        "Cual es el monto final de un deposito inicial de $1.000.000 a 5 años d eplazo con un interes compuesto de 10% (como no se especifica se sobreentiende que es 10% anual)."
      ],
      "metadata": {
        "id": "WVo3krxQ3QBe"
      }
    },
    {
      "cell_type": "code",
      "source": [
        "capital_inicial = 1_000_000 # Capital inicial\n",
        "tasa_anual = 0.1 # Tasa de interes efectivo anual\n",
        "n = 5 # Cantidad de periodos que capitalizará (años)\n",
        "m = 1 # Cantidad de veces que capitaliza en el año."
      ],
      "metadata": {
        "id": "EDQ3Dm9B26No"
      },
      "execution_count": 18,
      "outputs": []
    },
    {
      "cell_type": "code",
      "source": [
        "capital_final = round(capital_inicial * (1 + tasa_anual / m) ** (m * n))\n",
        "capital_final"
      ],
      "metadata": {
        "id": "O9-zbyR526KN",
        "outputId": "9e6fa462-e96d-4cc4-bf2c-4b6a9706d045",
        "colab": {
          "base_uri": "https://localhost:8080/"
        }
      },
      "execution_count": 20,
      "outputs": [
        {
          "output_type": "execute_result",
          "data": {
            "text/plain": [
              "1610510"
            ]
          },
          "metadata": {},
          "execution_count": 20
        }
      ]
    },
    {
      "cell_type": "code",
      "source": [
        "interes_acumulado = round(capital_inicial * ((1 + tasa_anual / m) ** (m * n) - 1))\n",
        "interes_acumulado"
      ],
      "metadata": {
        "id": "-A0HdwRjAxxu",
        "outputId": "72fbdfa8-0ad3-4da8-c46c-816c8ae7c74e",
        "colab": {
          "base_uri": "https://localhost:8080/"
        }
      },
      "execution_count": 23,
      "outputs": [
        {
          "output_type": "execute_result",
          "data": {
            "text/plain": [
              "610510"
            ]
          },
          "metadata": {},
          "execution_count": 23
        }
      ]
    },
    {
      "cell_type": "code",
      "source": [
        "interes_periodo_n = round(capital_inicial * (tasa_anual / m))\n",
        "interes_periodo_n"
      ],
      "metadata": {
        "id": "Fal5ZmLxBokS",
        "outputId": "a2a7e1cc-2514-4c8a-d862-7fbde6361770",
        "colab": {
          "base_uri": "https://localhost:8080/"
        }
      },
      "execution_count": 24,
      "outputs": [
        {
          "output_type": "execute_result",
          "data": {
            "text/plain": [
              "100000"
            ]
          },
          "metadata": {},
          "execution_count": 24
        }
      ]
    },
    {
      "cell_type": "code",
      "source": [
        "import pandas as pd\n",
        "\n",
        "def generar_tabla_apply(capital_inicial, tasa_anual, m, n_anios):\n",
        "    df = pd.DataFrame({'Periodo': range(1, n_anios + 1)})\n",
        "\n",
        "    df['Capital base'] = df['Periodo'].apply(\n",
        "        lambda n: round(capital_inicial * (1 + tasa_anual / m) ** (m * (n - 1)))\n",
        "    )\n",
        "\n",
        "    df['Interés del periodo'] = df['Periodo'].apply(\n",
        "        lambda n: round(capital_inicial * (1 + tasa_anual / m) ** (m * (n - 1)) * (tasa_anual / m))\n",
        "    )\n",
        "\n",
        "    df['Interés acumulado'] = df['Periodo'].apply(\n",
        "        lambda n: round(capital_inicial * ((1 + tasa_anual / m) ** (m * n) - 1))\n",
        "    )\n",
        "\n",
        "    df['Capital final'] = df['Periodo'].apply(\n",
        "        lambda n: round(capital_inicial * (1 + tasa_anual / m) ** (m * n))\n",
        "    )\n",
        "\n",
        "    return df"
      ],
      "metadata": {
        "id": "PwsJsvk3Baq6"
      },
      "execution_count": 25,
      "outputs": []
    },
    {
      "cell_type": "code",
      "source": [
        "\n",
        "df = generar_tabla_apply(\n",
        "    capital_inicial=1_000_000,\n",
        "    tasa_anual=0.10,\n",
        "    m=1,\n",
        "    n_anios=5\n",
        ")\n",
        "\n",
        "df"
      ],
      "metadata": {
        "id": "A9kb3hoOEgXN",
        "outputId": "2b265176-d155-40fd-fd1a-6bcdac496c15",
        "colab": {
          "base_uri": "https://localhost:8080/",
          "height": 206
        }
      },
      "execution_count": 26,
      "outputs": [
        {
          "output_type": "execute_result",
          "data": {
            "text/plain": [
              "   Periodo  Capital base  Interés del periodo  Interés acumulado  \\\n",
              "0        1       1000000               100000             100000   \n",
              "1        2       1100000               110000             210000   \n",
              "2        3       1210000               121000             331000   \n",
              "3        4       1331000               133100             464100   \n",
              "4        5       1464100               146410             610510   \n",
              "\n",
              "   Capital final  \n",
              "0        1100000  \n",
              "1        1210000  \n",
              "2        1331000  \n",
              "3        1464100  \n",
              "4        1610510  "
            ],
            "text/html": [
              "\n",
              "  <div id=\"df-5dbff08c-5c19-4d18-be8e-ab7474b82dad\" class=\"colab-df-container\">\n",
              "    <div>\n",
              "<style scoped>\n",
              "    .dataframe tbody tr th:only-of-type {\n",
              "        vertical-align: middle;\n",
              "    }\n",
              "\n",
              "    .dataframe tbody tr th {\n",
              "        vertical-align: top;\n",
              "    }\n",
              "\n",
              "    .dataframe thead th {\n",
              "        text-align: right;\n",
              "    }\n",
              "</style>\n",
              "<table border=\"1\" class=\"dataframe\">\n",
              "  <thead>\n",
              "    <tr style=\"text-align: right;\">\n",
              "      <th></th>\n",
              "      <th>Periodo</th>\n",
              "      <th>Capital base</th>\n",
              "      <th>Interés del periodo</th>\n",
              "      <th>Interés acumulado</th>\n",
              "      <th>Capital final</th>\n",
              "    </tr>\n",
              "  </thead>\n",
              "  <tbody>\n",
              "    <tr>\n",
              "      <th>0</th>\n",
              "      <td>1</td>\n",
              "      <td>1000000</td>\n",
              "      <td>100000</td>\n",
              "      <td>100000</td>\n",
              "      <td>1100000</td>\n",
              "    </tr>\n",
              "    <tr>\n",
              "      <th>1</th>\n",
              "      <td>2</td>\n",
              "      <td>1100000</td>\n",
              "      <td>110000</td>\n",
              "      <td>210000</td>\n",
              "      <td>1210000</td>\n",
              "    </tr>\n",
              "    <tr>\n",
              "      <th>2</th>\n",
              "      <td>3</td>\n",
              "      <td>1210000</td>\n",
              "      <td>121000</td>\n",
              "      <td>331000</td>\n",
              "      <td>1331000</td>\n",
              "    </tr>\n",
              "    <tr>\n",
              "      <th>3</th>\n",
              "      <td>4</td>\n",
              "      <td>1331000</td>\n",
              "      <td>133100</td>\n",
              "      <td>464100</td>\n",
              "      <td>1464100</td>\n",
              "    </tr>\n",
              "    <tr>\n",
              "      <th>4</th>\n",
              "      <td>5</td>\n",
              "      <td>1464100</td>\n",
              "      <td>146410</td>\n",
              "      <td>610510</td>\n",
              "      <td>1610510</td>\n",
              "    </tr>\n",
              "  </tbody>\n",
              "</table>\n",
              "</div>\n",
              "    <div class=\"colab-df-buttons\">\n",
              "\n",
              "  <div class=\"colab-df-container\">\n",
              "    <button class=\"colab-df-convert\" onclick=\"convertToInteractive('df-5dbff08c-5c19-4d18-be8e-ab7474b82dad')\"\n",
              "            title=\"Convert this dataframe to an interactive table.\"\n",
              "            style=\"display:none;\">\n",
              "\n",
              "  <svg xmlns=\"http://www.w3.org/2000/svg\" height=\"24px\" viewBox=\"0 -960 960 960\">\n",
              "    <path d=\"M120-120v-720h720v720H120Zm60-500h600v-160H180v160Zm220 220h160v-160H400v160Zm0 220h160v-160H400v160ZM180-400h160v-160H180v160Zm440 0h160v-160H620v160ZM180-180h160v-160H180v160Zm440 0h160v-160H620v160Z\"/>\n",
              "  </svg>\n",
              "    </button>\n",
              "\n",
              "  <style>\n",
              "    .colab-df-container {\n",
              "      display:flex;\n",
              "      gap: 12px;\n",
              "    }\n",
              "\n",
              "    .colab-df-convert {\n",
              "      background-color: #E8F0FE;\n",
              "      border: none;\n",
              "      border-radius: 50%;\n",
              "      cursor: pointer;\n",
              "      display: none;\n",
              "      fill: #1967D2;\n",
              "      height: 32px;\n",
              "      padding: 0 0 0 0;\n",
              "      width: 32px;\n",
              "    }\n",
              "\n",
              "    .colab-df-convert:hover {\n",
              "      background-color: #E2EBFA;\n",
              "      box-shadow: 0px 1px 2px rgba(60, 64, 67, 0.3), 0px 1px 3px 1px rgba(60, 64, 67, 0.15);\n",
              "      fill: #174EA6;\n",
              "    }\n",
              "\n",
              "    .colab-df-buttons div {\n",
              "      margin-bottom: 4px;\n",
              "    }\n",
              "\n",
              "    [theme=dark] .colab-df-convert {\n",
              "      background-color: #3B4455;\n",
              "      fill: #D2E3FC;\n",
              "    }\n",
              "\n",
              "    [theme=dark] .colab-df-convert:hover {\n",
              "      background-color: #434B5C;\n",
              "      box-shadow: 0px 1px 3px 1px rgba(0, 0, 0, 0.15);\n",
              "      filter: drop-shadow(0px 1px 2px rgba(0, 0, 0, 0.3));\n",
              "      fill: #FFFFFF;\n",
              "    }\n",
              "  </style>\n",
              "\n",
              "    <script>\n",
              "      const buttonEl =\n",
              "        document.querySelector('#df-5dbff08c-5c19-4d18-be8e-ab7474b82dad button.colab-df-convert');\n",
              "      buttonEl.style.display =\n",
              "        google.colab.kernel.accessAllowed ? 'block' : 'none';\n",
              "\n",
              "      async function convertToInteractive(key) {\n",
              "        const element = document.querySelector('#df-5dbff08c-5c19-4d18-be8e-ab7474b82dad');\n",
              "        const dataTable =\n",
              "          await google.colab.kernel.invokeFunction('convertToInteractive',\n",
              "                                                    [key], {});\n",
              "        if (!dataTable) return;\n",
              "\n",
              "        const docLinkHtml = 'Like what you see? Visit the ' +\n",
              "          '<a target=\"_blank\" href=https://colab.research.google.com/notebooks/data_table.ipynb>data table notebook</a>'\n",
              "          + ' to learn more about interactive tables.';\n",
              "        element.innerHTML = '';\n",
              "        dataTable['output_type'] = 'display_data';\n",
              "        await google.colab.output.renderOutput(dataTable, element);\n",
              "        const docLink = document.createElement('div');\n",
              "        docLink.innerHTML = docLinkHtml;\n",
              "        element.appendChild(docLink);\n",
              "      }\n",
              "    </script>\n",
              "  </div>\n",
              "\n",
              "\n",
              "    <div id=\"df-9454993c-b706-4a10-a39c-bf5f58d752f8\">\n",
              "      <button class=\"colab-df-quickchart\" onclick=\"quickchart('df-9454993c-b706-4a10-a39c-bf5f58d752f8')\"\n",
              "                title=\"Suggest charts\"\n",
              "                style=\"display:none;\">\n",
              "\n",
              "<svg xmlns=\"http://www.w3.org/2000/svg\" height=\"24px\"viewBox=\"0 0 24 24\"\n",
              "     width=\"24px\">\n",
              "    <g>\n",
              "        <path d=\"M19 3H5c-1.1 0-2 .9-2 2v14c0 1.1.9 2 2 2h14c1.1 0 2-.9 2-2V5c0-1.1-.9-2-2-2zM9 17H7v-7h2v7zm4 0h-2V7h2v10zm4 0h-2v-4h2v4z\"/>\n",
              "    </g>\n",
              "</svg>\n",
              "      </button>\n",
              "\n",
              "<style>\n",
              "  .colab-df-quickchart {\n",
              "      --bg-color: #E8F0FE;\n",
              "      --fill-color: #1967D2;\n",
              "      --hover-bg-color: #E2EBFA;\n",
              "      --hover-fill-color: #174EA6;\n",
              "      --disabled-fill-color: #AAA;\n",
              "      --disabled-bg-color: #DDD;\n",
              "  }\n",
              "\n",
              "  [theme=dark] .colab-df-quickchart {\n",
              "      --bg-color: #3B4455;\n",
              "      --fill-color: #D2E3FC;\n",
              "      --hover-bg-color: #434B5C;\n",
              "      --hover-fill-color: #FFFFFF;\n",
              "      --disabled-bg-color: #3B4455;\n",
              "      --disabled-fill-color: #666;\n",
              "  }\n",
              "\n",
              "  .colab-df-quickchart {\n",
              "    background-color: var(--bg-color);\n",
              "    border: none;\n",
              "    border-radius: 50%;\n",
              "    cursor: pointer;\n",
              "    display: none;\n",
              "    fill: var(--fill-color);\n",
              "    height: 32px;\n",
              "    padding: 0;\n",
              "    width: 32px;\n",
              "  }\n",
              "\n",
              "  .colab-df-quickchart:hover {\n",
              "    background-color: var(--hover-bg-color);\n",
              "    box-shadow: 0 1px 2px rgba(60, 64, 67, 0.3), 0 1px 3px 1px rgba(60, 64, 67, 0.15);\n",
              "    fill: var(--button-hover-fill-color);\n",
              "  }\n",
              "\n",
              "  .colab-df-quickchart-complete:disabled,\n",
              "  .colab-df-quickchart-complete:disabled:hover {\n",
              "    background-color: var(--disabled-bg-color);\n",
              "    fill: var(--disabled-fill-color);\n",
              "    box-shadow: none;\n",
              "  }\n",
              "\n",
              "  .colab-df-spinner {\n",
              "    border: 2px solid var(--fill-color);\n",
              "    border-color: transparent;\n",
              "    border-bottom-color: var(--fill-color);\n",
              "    animation:\n",
              "      spin 1s steps(1) infinite;\n",
              "  }\n",
              "\n",
              "  @keyframes spin {\n",
              "    0% {\n",
              "      border-color: transparent;\n",
              "      border-bottom-color: var(--fill-color);\n",
              "      border-left-color: var(--fill-color);\n",
              "    }\n",
              "    20% {\n",
              "      border-color: transparent;\n",
              "      border-left-color: var(--fill-color);\n",
              "      border-top-color: var(--fill-color);\n",
              "    }\n",
              "    30% {\n",
              "      border-color: transparent;\n",
              "      border-left-color: var(--fill-color);\n",
              "      border-top-color: var(--fill-color);\n",
              "      border-right-color: var(--fill-color);\n",
              "    }\n",
              "    40% {\n",
              "      border-color: transparent;\n",
              "      border-right-color: var(--fill-color);\n",
              "      border-top-color: var(--fill-color);\n",
              "    }\n",
              "    60% {\n",
              "      border-color: transparent;\n",
              "      border-right-color: var(--fill-color);\n",
              "    }\n",
              "    80% {\n",
              "      border-color: transparent;\n",
              "      border-right-color: var(--fill-color);\n",
              "      border-bottom-color: var(--fill-color);\n",
              "    }\n",
              "    90% {\n",
              "      border-color: transparent;\n",
              "      border-bottom-color: var(--fill-color);\n",
              "    }\n",
              "  }\n",
              "</style>\n",
              "\n",
              "      <script>\n",
              "        async function quickchart(key) {\n",
              "          const quickchartButtonEl =\n",
              "            document.querySelector('#' + key + ' button');\n",
              "          quickchartButtonEl.disabled = true;  // To prevent multiple clicks.\n",
              "          quickchartButtonEl.classList.add('colab-df-spinner');\n",
              "          try {\n",
              "            const charts = await google.colab.kernel.invokeFunction(\n",
              "                'suggestCharts', [key], {});\n",
              "          } catch (error) {\n",
              "            console.error('Error during call to suggestCharts:', error);\n",
              "          }\n",
              "          quickchartButtonEl.classList.remove('colab-df-spinner');\n",
              "          quickchartButtonEl.classList.add('colab-df-quickchart-complete');\n",
              "        }\n",
              "        (() => {\n",
              "          let quickchartButtonEl =\n",
              "            document.querySelector('#df-9454993c-b706-4a10-a39c-bf5f58d752f8 button');\n",
              "          quickchartButtonEl.style.display =\n",
              "            google.colab.kernel.accessAllowed ? 'block' : 'none';\n",
              "        })();\n",
              "      </script>\n",
              "    </div>\n",
              "\n",
              "  <div id=\"id_6408f8b7-d845-4e92-90bb-9e99e1393fd6\">\n",
              "    <style>\n",
              "      .colab-df-generate {\n",
              "        background-color: #E8F0FE;\n",
              "        border: none;\n",
              "        border-radius: 50%;\n",
              "        cursor: pointer;\n",
              "        display: none;\n",
              "        fill: #1967D2;\n",
              "        height: 32px;\n",
              "        padding: 0 0 0 0;\n",
              "        width: 32px;\n",
              "      }\n",
              "\n",
              "      .colab-df-generate:hover {\n",
              "        background-color: #E2EBFA;\n",
              "        box-shadow: 0px 1px 2px rgba(60, 64, 67, 0.3), 0px 1px 3px 1px rgba(60, 64, 67, 0.15);\n",
              "        fill: #174EA6;\n",
              "      }\n",
              "\n",
              "      [theme=dark] .colab-df-generate {\n",
              "        background-color: #3B4455;\n",
              "        fill: #D2E3FC;\n",
              "      }\n",
              "\n",
              "      [theme=dark] .colab-df-generate:hover {\n",
              "        background-color: #434B5C;\n",
              "        box-shadow: 0px 1px 3px 1px rgba(0, 0, 0, 0.15);\n",
              "        filter: drop-shadow(0px 1px 2px rgba(0, 0, 0, 0.3));\n",
              "        fill: #FFFFFF;\n",
              "      }\n",
              "    </style>\n",
              "    <button class=\"colab-df-generate\" onclick=\"generateWithVariable('df')\"\n",
              "            title=\"Generate code using this dataframe.\"\n",
              "            style=\"display:none;\">\n",
              "\n",
              "  <svg xmlns=\"http://www.w3.org/2000/svg\" height=\"24px\"viewBox=\"0 0 24 24\"\n",
              "       width=\"24px\">\n",
              "    <path d=\"M7,19H8.4L18.45,9,17,7.55,7,17.6ZM5,21V16.75L18.45,3.32a2,2,0,0,1,2.83,0l1.4,1.43a1.91,1.91,0,0,1,.58,1.4,1.91,1.91,0,0,1-.58,1.4L9.25,21ZM18.45,9,17,7.55Zm-12,3A5.31,5.31,0,0,0,4.9,8.1,5.31,5.31,0,0,0,1,6.5,5.31,5.31,0,0,0,4.9,4.9,5.31,5.31,0,0,0,6.5,1,5.31,5.31,0,0,0,8.1,4.9,5.31,5.31,0,0,0,12,6.5,5.46,5.46,0,0,0,6.5,12Z\"/>\n",
              "  </svg>\n",
              "    </button>\n",
              "    <script>\n",
              "      (() => {\n",
              "      const buttonEl =\n",
              "        document.querySelector('#id_6408f8b7-d845-4e92-90bb-9e99e1393fd6 button.colab-df-generate');\n",
              "      buttonEl.style.display =\n",
              "        google.colab.kernel.accessAllowed ? 'block' : 'none';\n",
              "\n",
              "      buttonEl.onclick = () => {\n",
              "        google.colab.notebook.generateWithVariable('df');\n",
              "      }\n",
              "      })();\n",
              "    </script>\n",
              "  </div>\n",
              "\n",
              "    </div>\n",
              "  </div>\n"
            ],
            "application/vnd.google.colaboratory.intrinsic+json": {
              "type": "dataframe",
              "variable_name": "df",
              "summary": "{\n  \"name\": \"df\",\n  \"rows\": 5,\n  \"fields\": [\n    {\n      \"column\": \"Periodo\",\n      \"properties\": {\n        \"dtype\": \"number\",\n        \"std\": 1,\n        \"min\": 1,\n        \"max\": 5,\n        \"num_unique_values\": 5,\n        \"samples\": [\n          2,\n          5,\n          3\n        ],\n        \"semantic_type\": \"\",\n        \"description\": \"\"\n      }\n    },\n    {\n      \"column\": \"Capital base\",\n      \"properties\": {\n        \"dtype\": \"number\",\n        \"std\": 183576,\n        \"min\": 1000000,\n        \"max\": 1464100,\n        \"num_unique_values\": 5,\n        \"samples\": [\n          1100000,\n          1464100,\n          1210000\n        ],\n        \"semantic_type\": \"\",\n        \"description\": \"\"\n      }\n    },\n    {\n      \"column\": \"Inter\\u00e9s del periodo\",\n      \"properties\": {\n        \"dtype\": \"number\",\n        \"std\": 18357,\n        \"min\": 100000,\n        \"max\": 146410,\n        \"num_unique_values\": 5,\n        \"samples\": [\n          110000,\n          146410,\n          121000\n        ],\n        \"semantic_type\": \"\",\n        \"description\": \"\"\n      }\n    },\n    {\n      \"column\": \"Inter\\u00e9s acumulado\",\n      \"properties\": {\n        \"dtype\": \"number\",\n        \"std\": 201933,\n        \"min\": 100000,\n        \"max\": 610510,\n        \"num_unique_values\": 5,\n        \"samples\": [\n          210000,\n          610510,\n          331000\n        ],\n        \"semantic_type\": \"\",\n        \"description\": \"\"\n      }\n    },\n    {\n      \"column\": \"Capital final\",\n      \"properties\": {\n        \"dtype\": \"number\",\n        \"std\": 201933,\n        \"min\": 1100000,\n        \"max\": 1610510,\n        \"num_unique_values\": 5,\n        \"samples\": [\n          1210000,\n          1610510,\n          1331000\n        ],\n        \"semantic_type\": \"\",\n        \"description\": \"\"\n      }\n    }\n  ]\n}"
            }
          },
          "metadata": {},
          "execution_count": 26
        }
      ]
    },
    {
      "cell_type": "code",
      "source": [],
      "metadata": {
        "id": "GrwN7EiZEgTh"
      },
      "execution_count": null,
      "outputs": []
    },
    {
      "cell_type": "code",
      "source": [],
      "metadata": {
        "id": "ZSWy2Bys255Z"
      },
      "execution_count": null,
      "outputs": []
    },
    {
      "cell_type": "code",
      "source": [],
      "metadata": {
        "id": "O3NZHkmS25yQ"
      },
      "execution_count": null,
      "outputs": []
    },
    {
      "cell_type": "code",
      "source": [],
      "metadata": {
        "id": "lwDyUrIE3Mwb"
      },
      "execution_count": null,
      "outputs": []
    },
    {
      "cell_type": "code",
      "source": [],
      "metadata": {
        "id": "9kf5mgod3Ms0"
      },
      "execution_count": null,
      "outputs": []
    },
    {
      "cell_type": "code",
      "source": [],
      "metadata": {
        "id": "ydD4J6U43MqC"
      },
      "execution_count": null,
      "outputs": []
    },
    {
      "cell_type": "markdown",
      "source": [
        "# 01. TEA, TEM, TED (Tazas de interes efectivas)"
      ],
      "metadata": {
        "id": "RCJ8WuVLQbGr"
      }
    },
    {
      "cell_type": "markdown",
      "source": [
        "Definiciones:\n",
        "\n",
        "- TEA (Taza efectiva anual)\n",
        "- TEM (Taza efectiva mensual)\n",
        "- TED (Taza efectiva diaria)\n",
        "\n",
        "\n",
        "\n",
        "\n"
      ],
      "metadata": {
        "id": "vOLs6oWnSk6O"
      }
    },
    {
      "cell_type": "markdown",
      "source": [
        "Cálculo de tasas de intres mensual y diaria a partir de la taza de interes anual:\n",
        "$$ TEA = \\left(1+TEA\\right)^{1/1}-1$$\n",
        "$$ TEM = \\left(1+TEA\\right)^{1/12}-1$$\n",
        "$$ TED = \\left(1+TEA\\right)^{1/365}-1$$"
      ],
      "metadata": {
        "id": "BypqbM2DWx_b"
      }
    },
    {
      "cell_type": "code",
      "source": [
        "# Ejemplo 01:\n",
        "TEA = 0.39\n",
        "TEM = pow(1+TEA,1/12)-1\n",
        "TED = pow(1+TEA,(1/365))-1\n",
        "print(TEA, TEM, TED)"
      ],
      "metadata": {
        "id": "K5gnw-fTWtqv",
        "outputId": "d97ac29c-56ed-46ef-cfa2-fc0610b2341d",
        "colab": {
          "base_uri": "https://localhost:8080/"
        }
      },
      "execution_count": null,
      "outputs": [
        {
          "output_type": "stream",
          "name": "stdout",
          "text": [
            "0.39 0.02782197804474018 0.0009026091536543657\n"
          ]
        }
      ]
    },
    {
      "cell_type": "markdown",
      "source": [
        "Cálculo de la tasa de intres anual a partir de la tazas de interes diaria y mensual:\n",
        "$$ TEA\\% = 100*\\left(1+TEA\\right)^{1}-100$$\n",
        "$$ TEA\\% = 100*\\left(1+TEM\\right)^{12}-100$$\n",
        "$$ TEA\\% = 100*\\left(1+TED\\right)^{365}-100$$"
      ],
      "metadata": {
        "id": "TLlyE7RVWvJa"
      }
    },
    {
      "cell_type": "code",
      "source": [
        "# Ejemplo 02:\n",
        "TEM\n",
        "TED\n",
        "TEA = round(pow(1+TEM,12)-1,5)\n",
        "TEA = round(pow(1+TED,365)-1,5)\n",
        "print(TEA, TEM, TED)"
      ],
      "metadata": {
        "id": "CxWDbTkCZHDH",
        "outputId": "b655ab07-66c6-4abb-bf41-2d3d02794477",
        "colab": {
          "base_uri": "https://localhost:8080/"
        }
      },
      "execution_count": null,
      "outputs": [
        {
          "output_type": "stream",
          "name": "stdout",
          "text": [
            "0.11 0.008734593823551906 0.00028595872860770477\n"
          ]
        }
      ]
    },
    {
      "cell_type": "code",
      "source": [
        "# Ejemplo 03:\n",
        "TEM = 0.01\n",
        "TEA = round(pow(1+TEM,12)-1,5)\n",
        "print(TEA, TEM)"
      ],
      "metadata": {
        "id": "8lGFp1f7p656",
        "outputId": "fbae92fb-7c40-43b2-a231-589c6184cc7f",
        "colab": {
          "base_uri": "https://localhost:8080/"
        }
      },
      "execution_count": null,
      "outputs": [
        {
          "output_type": "stream",
          "name": "stdout",
          "text": [
            "0.12683 0.01\n"
          ]
        }
      ]
    },
    {
      "cell_type": "markdown",
      "source": [
        "# 02. Cálculo de la cuota fija mensual"
      ],
      "metadata": {
        "id": "Q-t0ck95RAWH"
      }
    },
    {
      "cell_type": "markdown",
      "source": [
        "- Monto:\n",
        "- **Plazo:** el plazo debe estar dado en las mismas unidades en que se calcule la couta fija. Si es el cálculo de la cuota fija mensual, por ejemplo, la taza a emplear es la tasa efectiva mensual respectivamante\n",
        "- TEA:"
      ],
      "metadata": {
        "id": "GuT34uADZyou"
      }
    },
    {
      "cell_type": "markdown",
      "source": [
        "## Ejemplo 01:\n",
        "- Monto: 30 Millones de pesos\n",
        "- Plazo: 60 meses\n",
        "- TEA: 0.11"
      ],
      "metadata": {
        "id": "7N6DaVoQaaM-"
      }
    },
    {
      "cell_type": "code",
      "execution_count": null,
      "metadata": {
        "id": "ZaCZxQS3KE7t"
      },
      "outputs": [],
      "source": [
        "monto = 30000000\n",
        "plazo = 60\n",
        "TEA = 0.11"
      ]
    },
    {
      "cell_type": "code",
      "source": [
        "TEM = pow(1+TEA,1/12)-1\n",
        "TEM"
      ],
      "metadata": {
        "colab": {
          "base_uri": "https://localhost:8080/"
        },
        "id": "1dk6Ei8BKUXM",
        "outputId": "8b2ad45f-0b61-4909-ab6c-54371d47eebc"
      },
      "execution_count": null,
      "outputs": [
        {
          "output_type": "execute_result",
          "data": {
            "text/plain": [
              "0.008734593823551906"
            ]
          },
          "metadata": {},
          "execution_count": 27
        }
      ]
    },
    {
      "cell_type": "code",
      "source": [
        "cuota = round(monto*(TEM*pow(1+TEM,plazo))/(pow(1+TEM,plazo)-1))\n",
        "cuota"
      ],
      "metadata": {
        "colab": {
          "base_uri": "https://localhost:8080/"
        },
        "id": "SN0IoP20KF3S",
        "outputId": "332b405e-4ef1-4937-a612-311d5c11a733"
      },
      "execution_count": null,
      "outputs": [
        {
          "output_type": "execute_result",
          "data": {
            "text/plain": [
              "644542"
            ]
          },
          "metadata": {},
          "execution_count": 28
        }
      ]
    },
    {
      "cell_type": "markdown",
      "source": [
        "## Ejemplo 02:\n",
        "- Monto: 10 Millones de pesos\n",
        "- Plazo: 18 meses\n",
        "- TEM: 0.008"
      ],
      "metadata": {
        "id": "EyE2am1HbRLS"
      }
    },
    {
      "cell_type": "code",
      "execution_count": null,
      "metadata": {
        "id": "G1EgRGKObRLS"
      },
      "outputs": [],
      "source": [
        "monto = 10000000\n",
        "plazo = 18\n",
        "TEM = 0.008"
      ]
    },
    {
      "cell_type": "code",
      "source": [
        "cuota = round(monto*(TEM*pow(1+TEM,plazo))/(pow(1+TEM,plazo)-1))\n",
        "cuota"
      ],
      "metadata": {
        "colab": {
          "base_uri": "https://localhost:8080/"
        },
        "outputId": "a459fb56-0e69-416d-ceb7-acefccd35d06",
        "id": "kAXAXQuCbRLT"
      },
      "execution_count": null,
      "outputs": [
        {
          "output_type": "execute_result",
          "data": {
            "text/plain": [
              "598731"
            ]
          },
          "metadata": {},
          "execution_count": 30
        }
      ]
    },
    {
      "cell_type": "markdown",
      "source": [
        "## Ejemplo 03:"
      ],
      "metadata": {
        "id": "ILXdSuIxfOZH"
      }
    },
    {
      "cell_type": "code",
      "execution_count": null,
      "metadata": {
        "id": "pnqthFL0fOZJ"
      },
      "outputs": [],
      "source": [
        "monto = 5824700\n",
        "plazo = 12\n",
        "TEM = 0.008"
      ]
    },
    {
      "cell_type": "code",
      "source": [
        "cuota = round(monto*(TEM*pow(1+TEM,plazo))/(pow(1+TEM,plazo)-1))\n",
        "cuota"
      ],
      "metadata": {
        "colab": {
          "base_uri": "https://localhost:8080/"
        },
        "outputId": "a8c6d606-b0a7-4ebe-b51b-e6e7e350e3b1",
        "id": "e5iqZ4KWfOZK"
      },
      "execution_count": null,
      "outputs": [
        {
          "output_type": "execute_result",
          "data": {
            "text/plain": [
              "511001"
            ]
          },
          "metadata": {},
          "execution_count": 32
        }
      ]
    },
    {
      "cell_type": "markdown",
      "source": [
        "# 03. Cálculo de la proyección de pagos"
      ],
      "metadata": {
        "id": "e7gTBLZFcZmC"
      }
    },
    {
      "cell_type": "code",
      "source": [],
      "metadata": {
        "id": "INRFZmZBbOPR"
      },
      "execution_count": null,
      "outputs": []
    },
    {
      "cell_type": "code",
      "source": [],
      "metadata": {
        "id": "NRUoXhEDbONQ"
      },
      "execution_count": null,
      "outputs": []
    },
    {
      "cell_type": "code",
      "source": [],
      "metadata": {
        "id": "6XsK4RsvbOLW"
      },
      "execution_count": null,
      "outputs": []
    },
    {
      "cell_type": "code",
      "source": [],
      "metadata": {
        "id": "3h6MY2YZbOJj"
      },
      "execution_count": null,
      "outputs": []
    },
    {
      "cell_type": "code",
      "source": [],
      "metadata": {
        "id": "UB8lS0NybOHS"
      },
      "execution_count": null,
      "outputs": []
    },
    {
      "cell_type": "code",
      "source": [],
      "metadata": {
        "id": "zBkqbnoxbOFS"
      },
      "execution_count": null,
      "outputs": []
    },
    {
      "cell_type": "code",
      "source": [],
      "metadata": {
        "id": "57gikKvtbODB"
      },
      "execution_count": null,
      "outputs": []
    },
    {
      "cell_type": "code",
      "source": [],
      "metadata": {
        "id": "5CegXqodbN-n"
      },
      "execution_count": null,
      "outputs": []
    },
    {
      "cell_type": "markdown",
      "source": [
        "# XX. Puntos por estudiar con mayor detalle"
      ],
      "metadata": {
        "id": "woj_rO9zTF3V"
      }
    },
    {
      "cell_type": "markdown",
      "source": [
        "- Interes compuesto"
      ],
      "metadata": {
        "id": "t_yEVgslTMU6"
      }
    },
    {
      "cell_type": "code",
      "source": [],
      "metadata": {
        "id": "ClMi2zDANFBK"
      },
      "execution_count": null,
      "outputs": []
    },
    {
      "cell_type": "code",
      "source": [],
      "metadata": {
        "id": "oKnDxt5pNE82"
      },
      "execution_count": null,
      "outputs": []
    },
    {
      "cell_type": "code",
      "source": [],
      "metadata": {
        "id": "AnJ1-llFLDPa"
      },
      "execution_count": null,
      "outputs": []
    }
  ]
}