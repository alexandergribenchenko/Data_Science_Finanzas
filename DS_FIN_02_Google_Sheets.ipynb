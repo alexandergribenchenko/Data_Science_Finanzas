{
  "nbformat": 4,
  "nbformat_minor": 0,
  "metadata": {
    "colab": {
      "provenance": [],
      "authorship_tag": "ABX9TyPzp+qsn7VAZ0Jjm1SYHoK2",
      "include_colab_link": true
    },
    "kernelspec": {
      "name": "python3",
      "display_name": "Python 3"
    },
    "language_info": {
      "name": "python"
    }
  },
  "cells": [
    {
      "cell_type": "markdown",
      "metadata": {
        "id": "view-in-github",
        "colab_type": "text"
      },
      "source": [
        "<a href=\"https://colab.research.google.com/github/alexandergribenchenko/Data_Science_Finanzas/blob/main/DS_FIN_02_Google_Sheets.ipynb\" target=\"_parent\"><img src=\"https://colab.research.google.com/assets/colab-badge.svg\" alt=\"Open In Colab\"/></a>"
      ]
    },
    {
      "cell_type": "code",
      "execution_count": 1,
      "metadata": {
        "id": "lrSWosAm4OHg"
      },
      "outputs": [],
      "source": [
        "# 1. Authorizing google colab\n",
        "from google.colab import auth\n",
        "auth.authenticate_user()"
      ]
    },
    {
      "cell_type": "code",
      "source": [
        "\n",
        "# 2. credentials for google sheets\n",
        "import gspread\n",
        "from google.auth import default\n",
        "creds, _ = default()\n"
      ],
      "metadata": {
        "id": "ZshXwjJR4O_N"
      },
      "execution_count": 2,
      "outputs": []
    },
    {
      "cell_type": "code",
      "source": [
        "\n",
        "# 3. authotizing the connection\n",
        "gc = gspread.authorize(creds)\n",
        "\n"
      ],
      "metadata": {
        "id": "IwoDVrh04O9U"
      },
      "execution_count": 18,
      "outputs": []
    },
    {
      "cell_type": "code",
      "source": [
        "#4. Connecting \n",
        "worksheet = gc.open('perro').sheet1"
      ],
      "metadata": {
        "id": "DIoFeCuk4O7B"
      },
      "execution_count": 22,
      "outputs": []
    },
    {
      "cell_type": "code",
      "source": [
        "#5. Exporting data to get_all_values gives a list of rows.\n",
        "rows = worksheet.get_all_values()\n",
        "\n"
      ],
      "metadata": {
        "id": "myNVPw1A4O5B"
      },
      "execution_count": 23,
      "outputs": []
    },
    {
      "cell_type": "code",
      "source": [
        "# 6. Using pandas to convert to a DataFrame and render.\n",
        "import pandas as pd\n",
        "df = pd.DataFrame.from_records(rows)\n",
        "#creating columns name\n",
        "df.columns = df.iloc[0]\n",
        "df = df.iloc[1:]\n",
        "df"
      ],
      "metadata": {
        "colab": {
          "base_uri": "https://localhost:8080/",
          "height": 502
        },
        "id": "XjPdqFTB4O2z",
        "outputId": "f7d9e176-8d89-443d-ffa6-29a68a1eb045"
      },
      "execution_count": 24,
      "outputs": [
        {
          "output_type": "execute_result",
          "data": {
            "text/plain": [
              "0     Mes      Capital    Intereses Cuota sin seguros Seguro de vida  \\\n",
              "1       1   $1.186.111     $613.892        $1.800.003        $19.170   \n",
              "2       2   $1.194.385     $605.617        $1.800.003        $18.911   \n",
              "3       3   $1.202.717     $597.285        $1.800.003        $18.651   \n",
              "4       4   $1.211.108     $588.895        $1.800.003        $18.389   \n",
              "5       5   $1.219.556     $580.447        $1.800.003        $18.125   \n",
              "..    ...          ...          ...               ...            ...   \n",
              "58     58   $1.762.851      $37.152        $1.800.003         $1.387   \n",
              "59     59   $1.775.149      $24.854        $1.800.003           $928   \n",
              "60     60   $1.787.610      $12.470        $1.800.080           $443   \n",
              "61                                                                     \n",
              "62  Total  $88.000.287  $19.999.958      $108.000.245     $1.848.028   \n",
              "\n",
              "0  Seguro de incendio y terremoto Cuota con seguros        Saldo          \\\n",
              "1                         $30.800        $1.849.973  $86.814.176  65,89%   \n",
              "2                         $30.800        $1.849.715  $85.619.790  66,35%   \n",
              "3                         $30.800        $1.849.454  $84.417.073  66,82%   \n",
              "4                         $30.800        $1.849.192  $83.205.965  67,28%   \n",
              "5                         $30.800        $1.848.929  $81.986.409  67,75%   \n",
              "..                            ...               ...          ...     ...   \n",
              "58                        $30.800        $1.832.190   $3.562.759  97,94%   \n",
              "59                        $30.800        $1.831.731   $1.787.610  98,62%   \n",
              "60                        $30.800        $1.831.324            0  99,31%   \n",
              "61                                                                         \n",
              "62                       $670.198      $110.518.471                        \n",
              "\n",
              "0                   \n",
              "1   34,11%  51,76%  \n",
              "2   33,65%  50,71%  \n",
              "3   33,18%  49,66%  \n",
              "4   32,72%  48,62%  \n",
              "5   32,25%  47,59%  \n",
              "..     ...     ...  \n",
              "58   2,06%   2,11%  \n",
              "59   1,38%   1,40%  \n",
              "60   0,69%   0,70%  \n",
              "61                  \n",
              "62                  \n",
              "\n",
              "[62 rows x 11 columns]"
            ],
            "text/html": [
              "\n",
              "  <div id=\"df-2ac2b4f5-41d3-4d0a-9a31-20896e8aff0f\">\n",
              "    <div class=\"colab-df-container\">\n",
              "      <div>\n",
              "<style scoped>\n",
              "    .dataframe tbody tr th:only-of-type {\n",
              "        vertical-align: middle;\n",
              "    }\n",
              "\n",
              "    .dataframe tbody tr th {\n",
              "        vertical-align: top;\n",
              "    }\n",
              "\n",
              "    .dataframe thead th {\n",
              "        text-align: right;\n",
              "    }\n",
              "</style>\n",
              "<table border=\"1\" class=\"dataframe\">\n",
              "  <thead>\n",
              "    <tr style=\"text-align: right;\">\n",
              "      <th></th>\n",
              "      <th>Mes</th>\n",
              "      <th>Capital</th>\n",
              "      <th>Intereses</th>\n",
              "      <th>Cuota sin seguros</th>\n",
              "      <th>Seguro de vida</th>\n",
              "      <th>Seguro de incendio y terremoto</th>\n",
              "      <th>Cuota con seguros</th>\n",
              "      <th>Saldo</th>\n",
              "      <th></th>\n",
              "      <th></th>\n",
              "      <th></th>\n",
              "    </tr>\n",
              "  </thead>\n",
              "  <tbody>\n",
              "    <tr>\n",
              "      <th>1</th>\n",
              "      <td>1</td>\n",
              "      <td>$1.186.111</td>\n",
              "      <td>$613.892</td>\n",
              "      <td>$1.800.003</td>\n",
              "      <td>$19.170</td>\n",
              "      <td>$30.800</td>\n",
              "      <td>$1.849.973</td>\n",
              "      <td>$86.814.176</td>\n",
              "      <td>65,89%</td>\n",
              "      <td>34,11%</td>\n",
              "      <td>51,76%</td>\n",
              "    </tr>\n",
              "    <tr>\n",
              "      <th>2</th>\n",
              "      <td>2</td>\n",
              "      <td>$1.194.385</td>\n",
              "      <td>$605.617</td>\n",
              "      <td>$1.800.003</td>\n",
              "      <td>$18.911</td>\n",
              "      <td>$30.800</td>\n",
              "      <td>$1.849.715</td>\n",
              "      <td>$85.619.790</td>\n",
              "      <td>66,35%</td>\n",
              "      <td>33,65%</td>\n",
              "      <td>50,71%</td>\n",
              "    </tr>\n",
              "    <tr>\n",
              "      <th>3</th>\n",
              "      <td>3</td>\n",
              "      <td>$1.202.717</td>\n",
              "      <td>$597.285</td>\n",
              "      <td>$1.800.003</td>\n",
              "      <td>$18.651</td>\n",
              "      <td>$30.800</td>\n",
              "      <td>$1.849.454</td>\n",
              "      <td>$84.417.073</td>\n",
              "      <td>66,82%</td>\n",
              "      <td>33,18%</td>\n",
              "      <td>49,66%</td>\n",
              "    </tr>\n",
              "    <tr>\n",
              "      <th>4</th>\n",
              "      <td>4</td>\n",
              "      <td>$1.211.108</td>\n",
              "      <td>$588.895</td>\n",
              "      <td>$1.800.003</td>\n",
              "      <td>$18.389</td>\n",
              "      <td>$30.800</td>\n",
              "      <td>$1.849.192</td>\n",
              "      <td>$83.205.965</td>\n",
              "      <td>67,28%</td>\n",
              "      <td>32,72%</td>\n",
              "      <td>48,62%</td>\n",
              "    </tr>\n",
              "    <tr>\n",
              "      <th>5</th>\n",
              "      <td>5</td>\n",
              "      <td>$1.219.556</td>\n",
              "      <td>$580.447</td>\n",
              "      <td>$1.800.003</td>\n",
              "      <td>$18.125</td>\n",
              "      <td>$30.800</td>\n",
              "      <td>$1.848.929</td>\n",
              "      <td>$81.986.409</td>\n",
              "      <td>67,75%</td>\n",
              "      <td>32,25%</td>\n",
              "      <td>47,59%</td>\n",
              "    </tr>\n",
              "    <tr>\n",
              "      <th>...</th>\n",
              "      <td>...</td>\n",
              "      <td>...</td>\n",
              "      <td>...</td>\n",
              "      <td>...</td>\n",
              "      <td>...</td>\n",
              "      <td>...</td>\n",
              "      <td>...</td>\n",
              "      <td>...</td>\n",
              "      <td>...</td>\n",
              "      <td>...</td>\n",
              "      <td>...</td>\n",
              "    </tr>\n",
              "    <tr>\n",
              "      <th>58</th>\n",
              "      <td>58</td>\n",
              "      <td>$1.762.851</td>\n",
              "      <td>$37.152</td>\n",
              "      <td>$1.800.003</td>\n",
              "      <td>$1.387</td>\n",
              "      <td>$30.800</td>\n",
              "      <td>$1.832.190</td>\n",
              "      <td>$3.562.759</td>\n",
              "      <td>97,94%</td>\n",
              "      <td>2,06%</td>\n",
              "      <td>2,11%</td>\n",
              "    </tr>\n",
              "    <tr>\n",
              "      <th>59</th>\n",
              "      <td>59</td>\n",
              "      <td>$1.775.149</td>\n",
              "      <td>$24.854</td>\n",
              "      <td>$1.800.003</td>\n",
              "      <td>$928</td>\n",
              "      <td>$30.800</td>\n",
              "      <td>$1.831.731</td>\n",
              "      <td>$1.787.610</td>\n",
              "      <td>98,62%</td>\n",
              "      <td>1,38%</td>\n",
              "      <td>1,40%</td>\n",
              "    </tr>\n",
              "    <tr>\n",
              "      <th>60</th>\n",
              "      <td>60</td>\n",
              "      <td>$1.787.610</td>\n",
              "      <td>$12.470</td>\n",
              "      <td>$1.800.080</td>\n",
              "      <td>$443</td>\n",
              "      <td>$30.800</td>\n",
              "      <td>$1.831.324</td>\n",
              "      <td>0</td>\n",
              "      <td>99,31%</td>\n",
              "      <td>0,69%</td>\n",
              "      <td>0,70%</td>\n",
              "    </tr>\n",
              "    <tr>\n",
              "      <th>61</th>\n",
              "      <td></td>\n",
              "      <td></td>\n",
              "      <td></td>\n",
              "      <td></td>\n",
              "      <td></td>\n",
              "      <td></td>\n",
              "      <td></td>\n",
              "      <td></td>\n",
              "      <td></td>\n",
              "      <td></td>\n",
              "      <td></td>\n",
              "    </tr>\n",
              "    <tr>\n",
              "      <th>62</th>\n",
              "      <td>Total</td>\n",
              "      <td>$88.000.287</td>\n",
              "      <td>$19.999.958</td>\n",
              "      <td>$108.000.245</td>\n",
              "      <td>$1.848.028</td>\n",
              "      <td>$670.198</td>\n",
              "      <td>$110.518.471</td>\n",
              "      <td></td>\n",
              "      <td></td>\n",
              "      <td></td>\n",
              "      <td></td>\n",
              "    </tr>\n",
              "  </tbody>\n",
              "</table>\n",
              "<p>62 rows × 11 columns</p>\n",
              "</div>\n",
              "      <button class=\"colab-df-convert\" onclick=\"convertToInteractive('df-2ac2b4f5-41d3-4d0a-9a31-20896e8aff0f')\"\n",
              "              title=\"Convert this dataframe to an interactive table.\"\n",
              "              style=\"display:none;\">\n",
              "        \n",
              "  <svg xmlns=\"http://www.w3.org/2000/svg\" height=\"24px\"viewBox=\"0 0 24 24\"\n",
              "       width=\"24px\">\n",
              "    <path d=\"M0 0h24v24H0V0z\" fill=\"none\"/>\n",
              "    <path d=\"M18.56 5.44l.94 2.06.94-2.06 2.06-.94-2.06-.94-.94-2.06-.94 2.06-2.06.94zm-11 1L8.5 8.5l.94-2.06 2.06-.94-2.06-.94L8.5 2.5l-.94 2.06-2.06.94zm10 10l.94 2.06.94-2.06 2.06-.94-2.06-.94-.94-2.06-.94 2.06-2.06.94z\"/><path d=\"M17.41 7.96l-1.37-1.37c-.4-.4-.92-.59-1.43-.59-.52 0-1.04.2-1.43.59L10.3 9.45l-7.72 7.72c-.78.78-.78 2.05 0 2.83L4 21.41c.39.39.9.59 1.41.59.51 0 1.02-.2 1.41-.59l7.78-7.78 2.81-2.81c.8-.78.8-2.07 0-2.86zM5.41 20L4 18.59l7.72-7.72 1.47 1.35L5.41 20z\"/>\n",
              "  </svg>\n",
              "      </button>\n",
              "      \n",
              "  <style>\n",
              "    .colab-df-container {\n",
              "      display:flex;\n",
              "      flex-wrap:wrap;\n",
              "      gap: 12px;\n",
              "    }\n",
              "\n",
              "    .colab-df-convert {\n",
              "      background-color: #E8F0FE;\n",
              "      border: none;\n",
              "      border-radius: 50%;\n",
              "      cursor: pointer;\n",
              "      display: none;\n",
              "      fill: #1967D2;\n",
              "      height: 32px;\n",
              "      padding: 0 0 0 0;\n",
              "      width: 32px;\n",
              "    }\n",
              "\n",
              "    .colab-df-convert:hover {\n",
              "      background-color: #E2EBFA;\n",
              "      box-shadow: 0px 1px 2px rgba(60, 64, 67, 0.3), 0px 1px 3px 1px rgba(60, 64, 67, 0.15);\n",
              "      fill: #174EA6;\n",
              "    }\n",
              "\n",
              "    [theme=dark] .colab-df-convert {\n",
              "      background-color: #3B4455;\n",
              "      fill: #D2E3FC;\n",
              "    }\n",
              "\n",
              "    [theme=dark] .colab-df-convert:hover {\n",
              "      background-color: #434B5C;\n",
              "      box-shadow: 0px 1px 3px 1px rgba(0, 0, 0, 0.15);\n",
              "      filter: drop-shadow(0px 1px 2px rgba(0, 0, 0, 0.3));\n",
              "      fill: #FFFFFF;\n",
              "    }\n",
              "  </style>\n",
              "\n",
              "      <script>\n",
              "        const buttonEl =\n",
              "          document.querySelector('#df-2ac2b4f5-41d3-4d0a-9a31-20896e8aff0f button.colab-df-convert');\n",
              "        buttonEl.style.display =\n",
              "          google.colab.kernel.accessAllowed ? 'block' : 'none';\n",
              "\n",
              "        async function convertToInteractive(key) {\n",
              "          const element = document.querySelector('#df-2ac2b4f5-41d3-4d0a-9a31-20896e8aff0f');\n",
              "          const dataTable =\n",
              "            await google.colab.kernel.invokeFunction('convertToInteractive',\n",
              "                                                     [key], {});\n",
              "          if (!dataTable) return;\n",
              "\n",
              "          const docLinkHtml = 'Like what you see? Visit the ' +\n",
              "            '<a target=\"_blank\" href=https://colab.research.google.com/notebooks/data_table.ipynb>data table notebook</a>'\n",
              "            + ' to learn more about interactive tables.';\n",
              "          element.innerHTML = '';\n",
              "          dataTable['output_type'] = 'display_data';\n",
              "          await google.colab.output.renderOutput(dataTable, element);\n",
              "          const docLink = document.createElement('div');\n",
              "          docLink.innerHTML = docLinkHtml;\n",
              "          element.appendChild(docLink);\n",
              "        }\n",
              "      </script>\n",
              "    </div>\n",
              "  </div>\n",
              "  "
            ]
          },
          "metadata": {},
          "execution_count": 24
        }
      ]
    },
    {
      "cell_type": "code",
      "source": [],
      "metadata": {
        "id": "OJAMlTkI4O0k"
      },
      "execution_count": null,
      "outputs": []
    },
    {
      "cell_type": "code",
      "source": [
        "# 1. Authorizing\n",
        "from google.colab import auth\n",
        "auth.authenticate_user()\n",
        "\n",
        "# 2. Credentials\n",
        "import gspread\n",
        "from google.auth import default\n",
        "creds, _ = default()\n",
        "\n",
        "# 3. Authorizing Credentials\n",
        "gc = gspread.authorize(creds)\n",
        "\n"
      ],
      "metadata": {
        "id": "fD71mrOu4OyA"
      },
      "execution_count": null,
      "outputs": []
    },
    {
      "cell_type": "code",
      "source": [
        "# 4. Importing Google Sheet using google sheet key\n",
        "test_google = gc.open_by_key('{key}')\n",
        "\n",
        "# 5. Bring the tab you want to update \n",
        "test_googlept2 = test_google.worksheet('test')"
      ],
      "metadata": {
        "id": "YRKzu0E74Ovf"
      },
      "execution_count": null,
      "outputs": []
    },
    {
      "cell_type": "code",
      "source": [],
      "metadata": {
        "id": "8u4bXrOh8cYr"
      },
      "execution_count": null,
      "outputs": []
    },
    {
      "cell_type": "code",
      "source": [
        "#1. Authorize\n",
        "from google.colab import auth\n",
        "auth.authenticate_user()\n",
        "\n",
        "#2. Credentials\n",
        "import gspread\n",
        "from google.auth import default\n",
        "creds, _ = default()\n",
        "\n",
        "#3. Authorizing Credentials\n",
        "gc = gspread.authorize(creds)\n",
        "\n"
      ],
      "metadata": {
        "id": "ims_IgWJ8cVI"
      },
      "execution_count": null,
      "outputs": []
    },
    {
      "cell_type": "code",
      "source": [
        "#4. Creating New Spreadsheet\n",
        "sh = gc.create('Google_Colab_Medium_pt2')\n",
        "\n",
        "#5. Open our new sheet and add some data.\n",
        "worksheet = gc.open('Google_Colab_Medium_pt2').sheet1"
      ],
      "metadata": {
        "id": "N4Lq9hBa8cPg"
      },
      "execution_count": 25,
      "outputs": []
    },
    {
      "cell_type": "code",
      "source": [
        "cell_list = worksheet.range('A1:C2')"
      ],
      "metadata": {
        "id": "XyLBJNhf8cNm"
      },
      "execution_count": 26,
      "outputs": []
    },
    {
      "cell_type": "code",
      "source": [
        "import random\n",
        "for cell in cell_list:\n",
        "  cell.value = random.randint(1,10)\n",
        "\n",
        "worksheet.update_cells(cell_list)\n",
        "\n",
        "cell_list"
      ],
      "metadata": {
        "colab": {
          "base_uri": "https://localhost:8080/"
        },
        "id": "t96-kRLJ8cLd",
        "outputId": "4a758f7b-92e1-4ab4-9871-0977515f598e"
      },
      "execution_count": 36,
      "outputs": [
        {
          "output_type": "execute_result",
          "data": {
            "text/plain": [
              "[<Cell R1C1 10>,\n",
              " <Cell R1C2 9>,\n",
              " <Cell R1C3 3>,\n",
              " <Cell R2C1 3>,\n",
              " <Cell R2C2 5>,\n",
              " <Cell R2C3 6>]"
            ]
          },
          "metadata": {},
          "execution_count": 36
        }
      ]
    },
    {
      "cell_type": "code",
      "source": [],
      "metadata": {
        "id": "-zd0aKg59tsm"
      },
      "execution_count": null,
      "outputs": []
    },
    {
      "cell_type": "code",
      "source": [],
      "metadata": {
        "id": "jdBeB1L98cJG"
      },
      "execution_count": null,
      "outputs": []
    },
    {
      "cell_type": "code",
      "source": [],
      "metadata": {
        "id": "yIS9be4W8cHP"
      },
      "execution_count": null,
      "outputs": []
    },
    {
      "cell_type": "code",
      "source": [],
      "metadata": {
        "id": "kjnemkZq8cFC"
      },
      "execution_count": null,
      "outputs": []
    },
    {
      "cell_type": "code",
      "source": [],
      "metadata": {
        "id": "LItv2sZd8cDJ"
      },
      "execution_count": null,
      "outputs": []
    }
  ]
}